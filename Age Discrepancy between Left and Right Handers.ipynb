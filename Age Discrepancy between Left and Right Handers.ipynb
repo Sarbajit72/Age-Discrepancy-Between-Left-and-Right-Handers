{
 "cells": [
  {
   "cell_type": "markdown",
   "id": "f667fb5f",
   "metadata": {},
   "source": [
    "### Instruction - 1\n"
   ]
  },
  {
   "cell_type": "code",
   "execution_count": 41,
   "id": "8224c270",
   "metadata": {},
   "outputs": [],
   "source": [
    "import pandas as pd\n",
    "import matplotlib.pyplot as plt\n",
    "%matplotlib inline\n",
    "\n",
    "data_url_1 = \"https://gist.githubusercontent.com/mbonsma/8da0990b71ba9a09f7de395574e54df1/raw/aec88b30af87fad8d45da7e774223f91dad09e88/lh_data.csv\"\n",
    "lefthanded_data = pd.read_csv(data_url_1)"
   ]
  },
  {
   "cell_type": "code",
   "execution_count": 42,
   "id": "5c07a6bb",
   "metadata": {},
   "outputs": [
    {
     "data": {
      "text/html": [
       "<div>\n",
       "<style scoped>\n",
       "    .dataframe tbody tr th:only-of-type {\n",
       "        vertical-align: middle;\n",
       "    }\n",
       "\n",
       "    .dataframe tbody tr th {\n",
       "        vertical-align: top;\n",
       "    }\n",
       "\n",
       "    .dataframe thead th {\n",
       "        text-align: right;\n",
       "    }\n",
       "</style>\n",
       "<table border=\"1\" class=\"dataframe\">\n",
       "  <thead>\n",
       "    <tr style=\"text-align: right;\">\n",
       "      <th></th>\n",
       "      <th>Age</th>\n",
       "      <th>Male</th>\n",
       "      <th>Female</th>\n",
       "    </tr>\n",
       "  </thead>\n",
       "  <tbody>\n",
       "    <tr>\n",
       "      <th>0</th>\n",
       "      <td>10</td>\n",
       "      <td>12.717558</td>\n",
       "      <td>12.198041</td>\n",
       "    </tr>\n",
       "    <tr>\n",
       "      <th>1</th>\n",
       "      <td>11</td>\n",
       "      <td>15.318830</td>\n",
       "      <td>11.144804</td>\n",
       "    </tr>\n",
       "    <tr>\n",
       "      <th>2</th>\n",
       "      <td>12</td>\n",
       "      <td>14.808281</td>\n",
       "      <td>11.549240</td>\n",
       "    </tr>\n",
       "    <tr>\n",
       "      <th>3</th>\n",
       "      <td>13</td>\n",
       "      <td>13.793744</td>\n",
       "      <td>11.276442</td>\n",
       "    </tr>\n",
       "    <tr>\n",
       "      <th>4</th>\n",
       "      <td>14</td>\n",
       "      <td>15.156304</td>\n",
       "      <td>11.572906</td>\n",
       "    </tr>\n",
       "  </tbody>\n",
       "</table>\n",
       "</div>"
      ],
      "text/plain": [
       "   Age       Male     Female\n",
       "0   10  12.717558  12.198041\n",
       "1   11  15.318830  11.144804\n",
       "2   12  14.808281  11.549240\n",
       "3   13  13.793744  11.276442\n",
       "4   14  15.156304  11.572906"
      ]
     },
     "execution_count": 42,
     "metadata": {},
     "output_type": "execute_result"
    }
   ],
   "source": [
    "lefthanded_data.head()"
   ]
  },
  {
   "cell_type": "code",
   "execution_count": 43,
   "id": "c46027f5",
   "metadata": {},
   "outputs": [
    {
     "data": {
      "text/plain": [
       "<bound method NDFrame.describe of     Age       Male     Female\n",
       "0    10  12.717558  12.198041\n",
       "1    11  15.318830  11.144804\n",
       "2    12  14.808281  11.549240\n",
       "3    13  13.793744  11.276442\n",
       "4    14  15.156304  11.572906\n",
       "..  ...        ...        ...\n",
       "72   82   7.350204   4.874899\n",
       "73   83   6.471204   5.672536\n",
       "74   84   6.510858   5.774881\n",
       "75   85   7.337968   7.051459\n",
       "76   86   5.059387   4.680948\n",
       "\n",
       "[77 rows x 3 columns]>"
      ]
     },
     "execution_count": 43,
     "metadata": {},
     "output_type": "execute_result"
    }
   ],
   "source": [
    "lefthanded_data.describe"
   ]
  },
  {
   "cell_type": "code",
   "execution_count": 44,
   "id": "190efd82",
   "metadata": {},
   "outputs": [
    {
     "name": "stdout",
     "output_type": "stream",
     "text": [
      "<class 'pandas.core.frame.DataFrame'>\n",
      "RangeIndex: 77 entries, 0 to 76\n",
      "Data columns (total 3 columns):\n",
      " #   Column  Non-Null Count  Dtype  \n",
      "---  ------  --------------  -----  \n",
      " 0   Age     77 non-null     int64  \n",
      " 1   Male    77 non-null     float64\n",
      " 2   Female  77 non-null     float64\n",
      "dtypes: float64(2), int64(1)\n",
      "memory usage: 1.9 KB\n"
     ]
    }
   ],
   "source": [
    "lefthanded_data.info()"
   ]
  },
  {
   "cell_type": "code",
   "execution_count": 45,
   "id": "06b57a34",
   "metadata": {},
   "outputs": [
    {
     "data": {
      "text/plain": [
       "(77, 3)"
      ]
     },
     "execution_count": 45,
     "metadata": {},
     "output_type": "execute_result"
    }
   ],
   "source": [
    "lefthanded_data.shape"
   ]
  },
  {
   "cell_type": "code",
   "execution_count": 25,
   "id": "f68e1945",
   "metadata": {},
   "outputs": [],
   "source": [
    "fig, ax = plt.subplots() \n",
    "ax.plot(lefthanded_data['Age'], lefthanded_data['Female'], label='Female', marker='o') \n",
    "ax.plot(lefthanded_data['Age'], lefthanded_data['Male'], label='Male', marker='x')\n",
    "ax.legend() \n",
    "ax.set_xlabel('Age')\n",
    "ax.set_ylabel('Left-Handedness Rate')\n",
    "plt.show()"
   ]
  },
  {
   "cell_type": "markdown",
   "id": "b1725f5b",
   "metadata": {},
   "source": [
    "### Instruction - 2"
   ]
  },
  {
   "cell_type": "code",
   "execution_count": 46,
   "id": "b9e3b5fa",
   "metadata": {},
   "outputs": [],
   "source": [
    "lefthanded_data['Birth_year'] = 1986 - lefthanded_data['Age']"
   ]
  },
  {
   "cell_type": "code",
   "execution_count": 47,
   "id": "896b484c",
   "metadata": {},
   "outputs": [
    {
     "data": {
      "text/plain": [
       "0     1976\n",
       "1     1975\n",
       "2     1974\n",
       "3     1973\n",
       "4     1972\n",
       "      ... \n",
       "72    1904\n",
       "73    1903\n",
       "74    1902\n",
       "75    1901\n",
       "76    1900\n",
       "Name: Birth_year, Length: 77, dtype: int64"
      ]
     },
     "execution_count": 47,
     "metadata": {},
     "output_type": "execute_result"
    }
   ],
   "source": [
    "lefthanded_data['Birth_year']"
   ]
  },
  {
   "cell_type": "code",
   "execution_count": 48,
   "id": "f508a4f3",
   "metadata": {},
   "outputs": [],
   "source": [
    "lefthanded_data['Mean_lh'] = (lefthanded_data['Male'] + lefthanded_data['Female']) / 2"
   ]
  },
  {
   "cell_type": "code",
   "execution_count": 49,
   "id": "1db2e13f",
   "metadata": {},
   "outputs": [
    {
     "data": {
      "text/plain": [
       "0     12.457800\n",
       "1     13.231817\n",
       "2     13.178760\n",
       "3     12.535093\n",
       "4     13.364605\n",
       "        ...    \n",
       "72     6.112551\n",
       "73     6.071870\n",
       "74     6.142870\n",
       "75     7.194713\n",
       "76     4.870168\n",
       "Name: Mean_lh, Length: 77, dtype: float64"
      ]
     },
     "execution_count": 49,
     "metadata": {},
     "output_type": "execute_result"
    }
   ],
   "source": [
    "lefthanded_data['Mean_lh'] "
   ]
  },
  {
   "cell_type": "code",
   "execution_count": 50,
   "id": "f27fb99f",
   "metadata": {},
   "outputs": [
    {
     "data": {
      "image/png": "[encoded data removed]",
      "text/plain": [
       "<Figure size 640x480 with 1 Axes>"
      ]
     },
     "metadata": {},
     "output_type": "display_data"
    }
   ],
   "source": [
    "fig, ax = plt.subplots()\n",
    "ax.plot(lefthanded_data['Birth_year'], lefthanded_data['Mean_lh'], marker='x') \n",
    "ax.set_xlabel('Birth Year')\n",
    "ax.set_ylabel('Mean Left-Handedness')\n",
    "plt.show()"
   ]
  },
  {
   "cell_type": "markdown",
   "id": "871e98eb",
   "metadata": {},
   "source": [
    "### Instruction -3"
   ]
  },
  {
   "cell_type": "code",
   "execution_count": 51,
   "id": "2f2c4578",
   "metadata": {},
   "outputs": [],
   "source": [
    "import numpy as np"
   ]
  },
  {
   "cell_type": "code",
   "execution_count": 52,
   "id": "53bc3c8c",
   "metadata": {},
   "outputs": [],
   "source": [
    "early_1900s_rate = lefthanded_data.tail(10)['Mean_lh'].mean()"
   ]
  },
  {
   "cell_type": "code",
   "execution_count": 53,
   "id": "c01aa59c",
   "metadata": {},
   "outputs": [
    {
     "data": {
      "text/plain": [
       "6.007158575049999"
      ]
     },
     "execution_count": 53,
     "metadata": {},
     "output_type": "execute_result"
    }
   ],
   "source": [
    "early_1900s_rate"
   ]
  },
  {
   "cell_type": "code",
   "execution_count": 54,
   "id": "85889d4a",
   "metadata": {},
   "outputs": [],
   "source": [
    "late_1900s_rate = lefthanded_data.head(10)['Mean_lh'].mean()"
   ]
  },
  {
   "cell_type": "code",
   "execution_count": 55,
   "id": "7f23366f",
   "metadata": {},
   "outputs": [
    {
     "data": {
      "text/plain": [
       "13.09061452551"
      ]
     },
     "execution_count": 55,
     "metadata": {},
     "output_type": "execute_result"
    }
   ],
   "source": [
    "late_1900s_rate"
   ]
  },
  {
   "cell_type": "code",
   "execution_count": 94,
   "id": "e18b09be",
   "metadata": {},
   "outputs": [],
   "source": [
    "def P_lh_given_A(ages_of_death, study_year = 1990):\n",
    "    \"\"\" P(Left-handed | ages of death), calculated based on the reported rates of left-handedness.\n",
    "    Inputs: numpy array of ages of death, study_year\n",
    "    Returns: probability of left-handedness given that subjects died in `study_year` at ages `ages_of_death` \"\"\"\n",
    "    \n",
    "    early_1900s_rate = lefthanded_data['Mean_lh'][-10:].mean() \n",
    "    late_1900s_rate = lefthanded_data['Mean_lh'][:10].mean()\n",
    "    middle_rates = lefthanded_data.loc[lefthanded_data['Birth_year'].isin(study_year - ages_of_death)]['Mean_lh']\n",
    "    youngest_age = study_year - 1986 + 10\n",
    "    oldest_age = study_year - 1986 + 86 \n",
    "    P_return = np.zeros(ages_of_death.shape)\n",
    "    P_return[ages_of_death > oldest_age] = early_1900s_rate / 100\n",
    "    P_return[ages_of_death < youngest_age] = late_1900s_rate / 100\n",
    "    P_return[np.logical_and((ages_of_death <= oldest_age), (ages_of_death >= youngest_age))] = middle_rates / 100\n",
    "    return P_return"
   ]
  },
  {
   "cell_type": "code",
   "execution_count": 95,
   "id": "6cacfb4f",
   "metadata": {},
   "outputs": [
    {
     "data": {
      "text/plain": [
       "<function __main__.P_lh_given_A(ages_of_death, study_year=1990)>"
      ]
     },
     "execution_count": 95,
     "metadata": {},
     "output_type": "execute_result"
    }
   ],
   "source": [
    "P_lh_given_A"
   ]
  },
  {
   "cell_type": "markdown",
   "id": "9989b662",
   "metadata": {},
   "source": [
    "### Instruction - 4\n"
   ]
  },
  {
   "cell_type": "code",
   "execution_count": 96,
   "id": "55500949",
   "metadata": {},
   "outputs": [],
   "source": [
    "import pandas as pd\n",
    "import matplotlib.pyplot as plt"
   ]
  },
  {
   "cell_type": "code",
   "execution_count": 97,
   "id": "cceadb56",
   "metadata": {},
   "outputs": [],
   "source": [
    "data_url_2 = \"https://gist.githubusercontent.com/mbonsma/2f4076aab6820ca1807f4e29f75f18ec/raw/62f3ec07514c7e31f5979beeca86f19991540796/cdc_vs00199_table310.tsv\"\n"
   ]
  },
  {
   "cell_type": "code",
   "execution_count": 98,
   "id": "2750a198",
   "metadata": {},
   "outputs": [],
   "source": [
    "death_distribution_data = pd.read_csv(data_url_2, sep='\\t', skiprows=[1])"
   ]
  },
  {
   "cell_type": "code",
   "execution_count": 99,
   "id": "dffc2548",
   "metadata": {},
   "outputs": [
    {
     "data": {
      "text/html": [
       "<div>\n",
       "<style scoped>\n",
       "    .dataframe tbody tr th:only-of-type {\n",
       "        vertical-align: middle;\n",
       "    }\n",
       "\n",
       "    .dataframe tbody tr th {\n",
       "        vertical-align: top;\n",
       "    }\n",
       "\n",
       "    .dataframe thead th {\n",
       "        text-align: right;\n",
       "    }\n",
       "</style>\n",
       "<table border=\"1\" class=\"dataframe\">\n",
       "  <thead>\n",
       "    <tr style=\"text-align: right;\">\n",
       "      <th></th>\n",
       "      <th>Age</th>\n",
       "      <th>Both Sexes</th>\n",
       "      <th>Male</th>\n",
       "      <th>Female</th>\n",
       "    </tr>\n",
       "  </thead>\n",
       "  <tbody>\n",
       "    <tr>\n",
       "      <th>0</th>\n",
       "      <td>0</td>\n",
       "      <td>27937.0</td>\n",
       "      <td>15646.0</td>\n",
       "      <td>12291.0</td>\n",
       "    </tr>\n",
       "    <tr>\n",
       "      <th>1</th>\n",
       "      <td>1</td>\n",
       "      <td>1989.0</td>\n",
       "      <td>1103.0</td>\n",
       "      <td>886.0</td>\n",
       "    </tr>\n",
       "    <tr>\n",
       "      <th>2</th>\n",
       "      <td>2</td>\n",
       "      <td>1376.0</td>\n",
       "      <td>797.0</td>\n",
       "      <td>579.0</td>\n",
       "    </tr>\n",
       "    <tr>\n",
       "      <th>3</th>\n",
       "      <td>3</td>\n",
       "      <td>1046.0</td>\n",
       "      <td>601.0</td>\n",
       "      <td>445.0</td>\n",
       "    </tr>\n",
       "    <tr>\n",
       "      <th>4</th>\n",
       "      <td>4</td>\n",
       "      <td>838.0</td>\n",
       "      <td>474.0</td>\n",
       "      <td>364.0</td>\n",
       "    </tr>\n",
       "  </tbody>\n",
       "</table>\n",
       "</div>"
      ],
      "text/plain": [
       "   Age  Both Sexes     Male   Female\n",
       "0    0     27937.0  15646.0  12291.0\n",
       "1    1      1989.0   1103.0    886.0\n",
       "2    2      1376.0    797.0    579.0\n",
       "3    3      1046.0    601.0    445.0\n",
       "4    4       838.0    474.0    364.0"
      ]
     },
     "execution_count": 99,
     "metadata": {},
     "output_type": "execute_result"
    }
   ],
   "source": [
    "death_distribution_data.head()"
   ]
  },
  {
   "cell_type": "code",
   "execution_count": 100,
   "id": "b5505d9a",
   "metadata": {},
   "outputs": [
    {
     "data": {
      "text/plain": [
       "<bound method NDFrame.describe of      Age  Both Sexes     Male   Female\n",
       "0      0     27937.0  15646.0  12291.0\n",
       "1      1      1989.0   1103.0    886.0\n",
       "2      2      1376.0    797.0    579.0\n",
       "3      3      1046.0    601.0    445.0\n",
       "4      4       838.0    474.0    364.0\n",
       "..   ...         ...      ...      ...\n",
       "120  120         1.0      NaN      1.0\n",
       "121  121         NaN      NaN      NaN\n",
       "122  122         NaN      NaN      NaN\n",
       "123  123         NaN      NaN      NaN\n",
       "124  124         NaN      NaN      NaN\n",
       "\n",
       "[125 rows x 4 columns]>"
      ]
     },
     "execution_count": 100,
     "metadata": {},
     "output_type": "execute_result"
    }
   ],
   "source": [
    "death_distribution_data.describe"
   ]
  },
  {
   "cell_type": "code",
   "execution_count": 101,
   "id": "87e62423",
   "metadata": {},
   "outputs": [
    {
     "data": {
      "text/plain": [
       "(125, 4)"
      ]
     },
     "execution_count": 101,
     "metadata": {},
     "output_type": "execute_result"
    }
   ],
   "source": [
    "death_distribution_data.shape"
   ]
  },
  {
   "cell_type": "code",
   "execution_count": 102,
   "id": "8a6c64c8",
   "metadata": {},
   "outputs": [],
   "source": [
    "death_distribution_data.dropna(subset=['Both Sexes'], inplace=True)"
   ]
  },
  {
   "cell_type": "code",
   "execution_count": 103,
   "id": "4eefa171",
   "metadata": {},
   "outputs": [
    {
     "data": {
      "image/png": "[encoded data removed]",
      "text/plain": [
       "<Figure size 640x480 with 1 Axes>"
      ]
     },
     "metadata": {},
     "output_type": "display_data"
    }
   ],
   "source": [
    "fig, ax = plt.subplots()\n",
    "ax.plot(death_distribution_data['Age'], death_distribution_data['Both Sexes'], marker='o')\n",
    "ax.set_xlabel('Age')\n",
    "ax.set_ylabel('Number of Deaths')\n",
    "plt.show()"
   ]
  },
  {
   "cell_type": "markdown",
   "id": "4e74530e",
   "metadata": {},
   "source": [
    "### Instruction - 5"
   ]
  },
  {
   "cell_type": "code",
   "execution_count": 104,
   "id": "023957f2",
   "metadata": {},
   "outputs": [],
   "source": [
    "def P_lh(death_distribution_data, study_year = 1990): \n",
    "    \"\"\" Overall probability of being left-handed if you died in the study year\n",
    "    Input: dataframe of death distribution data, study year\n",
    "    Output: P(LH), a single floating point number \"\"\"\n",
    "    p_list = death_distribution_data['Both Sexes'] * P_lh_given_A(death_distribution_data['Age'], study_year) \n",
    "    p = np.sum(p_list)\n",
    "    return p / np.sum(death_distribution_data['Both Sexes'])"
   ]
  },
  {
   "cell_type": "code",
   "execution_count": 105,
   "id": "c75c0854",
   "metadata": {},
   "outputs": [
    {
     "name": "stdout",
     "output_type": "stream",
     "text": [
      "0.07766387615350638\n"
     ]
    }
   ],
   "source": [
    "print(P_lh(death_distribution_data))"
   ]
  },
  {
   "cell_type": "markdown",
   "id": "4fa984c0",
   "metadata": {},
   "source": [
    "### Instruction - 6"
   ]
  },
  {
   "cell_type": "code",
   "execution_count": 120,
   "id": "381a35e3",
   "metadata": {},
   "outputs": [],
   "source": [
    "def P_A_given_lh(ages_of_death, death_distribution_data, study_year = 1990):\n",
    "    \"\"\" The overall probability of being a particular `age_of_death` given that you're left-handed \"\"\"\n",
    "    P_A = death_distribution_data['Both Sexes'][ages_of_death] / np.sum(death_distribution_data['Both Sexes'])\n",
    "    P_left = P_lh(death_distribution_data, study_year) \n",
    "    P_lh_A = P_lh_given_A(ages_of_death, study_year) \n",
    "    return P_lh_A*P_A/P_left\n"
   ]
  },
  {
   "cell_type": "markdown",
   "id": "ee5a2265",
   "metadata": {},
   "source": [
    "### Instruction - 7"
   ]
  },
  {
   "cell_type": "code",
   "execution_count": 121,
   "id": "52d9ca91",
   "metadata": {},
   "outputs": [],
   "source": [
    "def P_A_given_rh(ages_of_death, death_distribution_data, study_year = 1990):\n",
    "    \"\"\" The overall probability of being a particular `age_of_death` given that you're right-handed \"\"\"\n",
    "    P_A = death_distribution_data['Both Sexes'][ages_of_death] / np.sum(death_distribution_data['Both Sexes'])\n",
    "    P_right = 1 - P_lh(death_distribution_data, study_year) \n",
    "    P_rh_A = 1 - P_lh_given_A(ages_of_death, study_year)\n",
    "    return P_rh_A*P_A/P_right\n"
   ]
  },
  {
   "cell_type": "markdown",
   "id": "27536b61",
   "metadata": {},
   "source": [
    "### Instruction - 8"
   ]
  },
  {
   "cell_type": "code",
   "execution_count": 122,
   "id": "62c21340",
   "metadata": {},
   "outputs": [],
   "source": [
    "import numpy as np\n"
   ]
  },
  {
   "cell_type": "code",
   "execution_count": 123,
   "id": "54013e77",
   "metadata": {},
   "outputs": [],
   "source": [
    "ages = np.arange(6, 115, 1)"
   ]
  },
  {
   "cell_type": "code",
   "execution_count": 124,
   "id": "f84f52ce",
   "metadata": {},
   "outputs": [],
   "source": [
    "left_handed_probability = P_A_given_lh(ages, death_distribution_data)\n"
   ]
  },
  {
   "cell_type": "code",
   "execution_count": 125,
   "id": "1465568c",
   "metadata": {},
   "outputs": [
    {
     "data": {
      "text/plain": [
       "6      0.000491\n",
       "7      0.000481\n",
       "8      0.000488\n",
       "9      0.000451\n",
       "10     0.000484\n",
       "         ...   \n",
       "110    0.000013\n",
       "111    0.000007\n",
       "112    0.000004\n",
       "113    0.000003\n",
       "114    0.000002\n",
       "Name: Both Sexes, Length: 109, dtype: float64"
      ]
     },
     "execution_count": 125,
     "metadata": {},
     "output_type": "execute_result"
    }
   ],
   "source": [
    "left_handed_probability"
   ]
  },
  {
   "cell_type": "code",
   "execution_count": 126,
   "id": "690c2d7a",
   "metadata": {},
   "outputs": [],
   "source": [
    "right_handed_probability = P_A_given_rh(ages, death_distribution_data)\n"
   ]
  },
  {
   "cell_type": "code",
   "execution_count": 127,
   "id": "09a3c796",
   "metadata": {},
   "outputs": [
    {
     "data": {
      "text/plain": [
       "6      0.000274\n",
       "7      0.000269\n",
       "8      0.000273\n",
       "9      0.000252\n",
       "10     0.000271\n",
       "         ...   \n",
       "110    0.000017\n",
       "111    0.000009\n",
       "112    0.000005\n",
       "113    0.000004\n",
       "114    0.000003\n",
       "Name: Both Sexes, Length: 109, dtype: float64"
      ]
     },
     "execution_count": 127,
     "metadata": {},
     "output_type": "execute_result"
    }
   ],
   "source": [
    "right_handed_probability"
   ]
  },
  {
   "cell_type": "code",
   "execution_count": 128,
   "id": "a5944ae8",
   "metadata": {},
   "outputs": [
    {
     "data": {
      "image/png": "[encoded data removed]",
      "text/plain": [
       "<Figure size 640x480 with 1 Axes>"
      ]
     },
     "metadata": {},
     "output_type": "display_data"
    }
   ],
   "source": [
    "fig, ax = plt.subplots() \n",
    "ax.plot(ages, left_handed_probability, label=\"Left-handed\")\n",
    "ax.plot(ages, right_handed_probability, label=\"Right-handed\")\n",
    "ax.legend() \n",
    "ax.set_xlabel(\"Age at death\")\n",
    "ax.set_ylabel(r\"Probability of being age A at death\")\n",
    "plt.show()"
   ]
  },
  {
   "cell_type": "markdown",
   "id": "4f9cf309",
   "metadata": {},
   "source": [
    "### Instruction - 9"
   ]
  },
  {
   "cell_type": "code",
   "execution_count": 129,
   "id": "886bec5e",
   "metadata": {},
   "outputs": [],
   "source": [
    "average_lh_age = np.nansum(ages * np.array(left_handed_probability))"
   ]
  },
  {
   "cell_type": "code",
   "execution_count": 130,
   "id": "e25c703c",
   "metadata": {},
   "outputs": [
    {
     "data": {
      "text/plain": [
       "67.24503662801027"
      ]
     },
     "execution_count": 130,
     "metadata": {},
     "output_type": "execute_result"
    }
   ],
   "source": [
    "average_lh_age"
   ]
  },
  {
   "cell_type": "code",
   "execution_count": 131,
   "id": "9c136f24",
   "metadata": {},
   "outputs": [],
   "source": [
    "average_rh_age = np.nansum(ages * np.array(right_handed_probability))"
   ]
  },
  {
   "cell_type": "code",
   "execution_count": 132,
   "id": "39897308",
   "metadata": {},
   "outputs": [
    {
     "data": {
      "text/plain": [
       "72.79171936526477"
      ]
     },
     "execution_count": 132,
     "metadata": {},
     "output_type": "execute_result"
    }
   ],
   "source": [
    "average_rh_age"
   ]
  },
  {
   "cell_type": "code",
   "execution_count": 133,
   "id": "0c078813",
   "metadata": {},
   "outputs": [
    {
     "name": "stdout",
     "output_type": "stream",
     "text": [
      "Average age at death for left-handers: 67.25 years\n",
      "Average age at death for right-handers: 72.79 year\n"
     ]
    }
   ],
   "source": [
    "print(\"Average age at death for left-handers:\", round(average_lh_age, 2), \"years\")\n",
    "print(\"Average age at death for right-handers:\", round(average_rh_age, 2), \"year\")"
   ]
  },
  {
   "cell_type": "code",
   "execution_count": 137,
   "id": "100e70bc",
   "metadata": {},
   "outputs": [
    {
     "name": "stdout",
     "output_type": "stream",
     "text": [
      "The difference in average ages is: 5.5 years.\n"
     ]
    }
   ],
   "source": [
    "print(\"The difference in average ages is: \" + str(round(average_rh_age - average_lh_age, 1)) + \" years.\")"
   ]
  },
  {
   "cell_type": "markdown",
   "id": "5d7f8a1e",
   "metadata": {},
   "source": [
    "### Instruction - 10\n"
   ]
  },
  {
   "cell_type": "code",
   "execution_count": 138,
   "id": "6014334f",
   "metadata": {},
   "outputs": [],
   "source": [
    "left_handed_probability_2018 = P_A_given_lh(ages, death_distribution_data, 2018)"
   ]
  },
  {
   "cell_type": "code",
   "execution_count": 139,
   "id": "cf3d79c3",
   "metadata": {},
   "outputs": [
    {
     "data": {
      "text/plain": [
       "6      0.000333\n",
       "7      0.000327\n",
       "8      0.000331\n",
       "9      0.000306\n",
       "10     0.000329\n",
       "         ...   \n",
       "110    0.000010\n",
       "111    0.000004\n",
       "112    0.000003\n",
       "113    0.000002\n",
       "114    0.000001\n",
       "Name: Both Sexes, Length: 109, dtype: float64"
      ]
     },
     "execution_count": 139,
     "metadata": {},
     "output_type": "execute_result"
    }
   ],
   "source": [
    "left_handed_probability_2018"
   ]
  },
  {
   "cell_type": "code",
   "execution_count": 140,
   "id": "7a28ad7e",
   "metadata": {},
   "outputs": [],
   "source": [
    "right_handed_probability_2018 = P_A_given_rh(ages, death_distribution_data, 2018)"
   ]
  },
  {
   "cell_type": "code",
   "execution_count": 141,
   "id": "9099e1b9",
   "metadata": {},
   "outputs": [
    {
     "data": {
      "text/plain": [
       "6      0.000286\n",
       "7      0.000280\n",
       "8      0.000284\n",
       "9      0.000263\n",
       "10     0.000282\n",
       "         ...   \n",
       "110    0.000018\n",
       "111    0.000009\n",
       "112    0.000005\n",
       "113    0.000004\n",
       "114    0.000003\n",
       "Name: Both Sexes, Length: 109, dtype: float64"
      ]
     },
     "execution_count": 141,
     "metadata": {},
     "output_type": "execute_result"
    }
   ],
   "source": [
    "right_handed_probability_2018"
   ]
  },
  {
   "cell_type": "code",
   "execution_count": 142,
   "id": "f4458950",
   "metadata": {},
   "outputs": [],
   "source": [
    "average_lh_age_2018 = np.nansum(ages*np.array(left_handed_probability_2018))\n",
    "average_rh_age_2018 = np.nansum(ages*np.array(right_handed_probability_2018))"
   ]
  },
  {
   "cell_type": "code",
   "execution_count": 143,
   "id": "99ab8e8b",
   "metadata": {},
   "outputs": [
    {
     "name": "stdout",
     "output_type": "stream",
     "text": [
      "The difference in average ages is 2.3 years.\n"
     ]
    }
   ],
   "source": [
    "print(\"The difference in average ages is \" + str(round(average_rh_age_2018 - average_lh_age_2018, 1)) + \" years.\")"
   ]
  },
  {
   "cell_type": "code",
   "execution_count": null,
   "id": "564c69d9",
   "metadata": {},
   "outputs": [],
   "source": []
  }
 ],
 "metadata": {
  "kernelspec": {
   "display_name": "Python 3 (ipykernel)",
   "language": "python",
   "name": "python3"
  },
  "language_info": {
   "codemirror_mode": {
    "name": "ipython",
    "version": 3
   },
   "file_extension": ".py",
   "mimetype": "text/x-python",
   "name": "python",
   "nbconvert_exporter": "python",
   "pygments_lexer": "ipython3",
   "version": "3.11.3"
  }
 },
 "nbformat": 4,
 "nbformat_minor": 5
}
